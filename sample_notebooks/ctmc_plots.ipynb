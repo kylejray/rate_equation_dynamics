{
 "cells": [
  {
   "cell_type": "code",
   "execution_count": null,
   "id": "61168063",
   "metadata": {},
   "outputs": [],
   "source": [
    "import sys, os\n",
    "\n",
    "#change the path to the directory that ctmc.py is located in on your system\n",
    "sys.path.append(os.path.expanduser('~/source/discrete_states/'))"
   ]
  },
  {
   "cell_type": "code",
   "execution_count": null,
   "id": "3085587d-41e7-4831-89a9-0ba4438fafda",
   "metadata": {},
   "outputs": [],
   "source": [
    "\n",
    "from ctmc import ContinuousTimeMarkovChain as MC\n",
    "from ctmc import normal_generator, gamma_generator, uniform_generator, cyclic_generator, detailed_balance_generator\n",
    "\n",
    "import numpy as np\n",
    "import matplotlib.pyplot as plt "
   ]
  },
  {
   "cell_type": "code",
   "execution_count": null,
   "id": "1d65320f-ba23-4a5e-a226-5cafc6b32611",
   "metadata": {},
   "outputs": [],
   "source": [
    "# example of doing a sweep over many different kind of generators with different S and N, saving the output. The NESS calculating will become numeric if the matrices get\n",
    "# too large to invert exactly\n",
    "SS = [3, 6, 20, 100, 250]\n",
    "trials = [500, 500, 500, 500, 500]\n",
    "\n",
    "normal_output, uniform_output, gamma_output, cyclic_output, balanced_output = {}, {}, {}, {}, {}\n",
    "\n",
    "for a in range(5):\n",
    "    print(a)\n",
    "    output = [normal_output, uniform_output, gamma_output, cyclic_output, balanced_output ][a]\n",
    "    gen = [normal_generator, uniform_generator, gamma_generator, cyclic_generator, detailed_balance_generator][a]\n",
    "    \n",
    "    \n",
    "    for s,trial in zip(SS,trials):\n",
    "        p = MC(S=s, N=trial, generator=gen)\n",
    "        #R = [ np.random.uniform(0,1,(S,S)) for i in range(trials)]\n",
    "        #for p,r in zip(procs,R):\n",
    "        #    p.set_rate_matrix(r, max_rate=1)   \n",
    "        dct = {'ness':p.get_epr(p.get_ness()), \n",
    "               'meps':p.get_epr(p.get_meps()), \n",
    "               'unif':p.get_epr(p.get_uniform()),\n",
    "               'rand':p.get_epr(p.get_random_state()),\n",
    "               'local':p.get_epr(p.get_local_state()),\n",
    "               'N':trial, 'scale':p.scale, \n",
    "               'nm_dkl':p.dkl(p.ness,p.meps),'mn_dkl':p.dkl(p.meps,p.ness)}\n",
    "        \n",
    "        \n",
    "        output[f'{p.S}'] = dct\n",
    "        \n"
   ]
  },
  {
   "cell_type": "code",
   "execution_count": null,
   "id": "e44c68ca-e114-44d0-930c-d8f1bd1ba823",
   "metadata": {},
   "outputs": [],
   "source": [
    "# the rest is just some random plot examples"
   ]
  },
  {
   "cell_type": "code",
   "execution_count": null,
   "id": "d0e6d65b-409a-44c1-8582-b1917f2d8381",
   "metadata": {},
   "outputs": [],
   "source": [
    "# just plotting some stuff\n",
    "fig, ax = plt.subplots(1, len(SS), figsize=(20,8), sharey=True, sharex=True)\n",
    "\n",
    "data = [normal_output, uniform_output, gamma_output, cyclic_output, balanced_output ]\n",
    "color = ['b', 'orange', 'green', 'r', 'k']\n",
    "\n",
    "op = .5\n",
    "\n",
    "for color, data in zip(color,data):\n",
    "    for a,k in zip(ax,data.keys()):\n",
    "        epr = data[k]\n",
    "        \n",
    "        ness_diff = (epr['local']-epr['meps'])\n",
    "        unif_diff = (epr['ness']-epr['meps'])\n",
    "        \n",
    "        \n",
    "        a.scatter(epr['meps'],ness_diff, c=color, alpha=op)\n",
    "        a.scatter(epr['meps'],unif_diff, marker='x', c=color, alpha=op)\n",
    "        \n",
    "        a.axhline(np.mean(ness_diff), c=color)\n",
    "        a.axhline(np.mean(unif_diff), c=color, linestyle='--')\n",
    "        \n",
    "        a.set_title(f'S={k}, N={epr[\"N\"]}')\n",
    "        \n",
    "    ax[0].set_yscale('log')\n",
    "    ax[0].set_ylabel('$\\\\Sigma_R-\\\\Sigma_R(MEPS)$')\n",
    "    ax[0].set_xlabel('$\\\\Sigma_R(MEPS)$')\n",
    "    ax[0].set_xlim(1E-4,.7)\n",
    "    ax[0].set_xscale('log')\n",
    "    \n",
    "fig.suptitle('x:ness, o:local, blue:normal dist, orange:uniform dist, green:gamma dist')"
   ]
  },
  {
   "cell_type": "code",
   "execution_count": null,
   "id": "f51c24a1-2c8b-4a33-bc7e-9c7743999f80",
   "metadata": {},
   "outputs": [],
   "source": [
    "output=cyclic_output\n",
    "\n",
    "fig, ax = plt.subplots(2, figsize=(10,10))\n",
    "for k in list(output.keys())[:]:\n",
    "    epr = output[k]\n",
    "    ness_diff = np.mean(   (epr['ness']-epr['meps'])/epr['meps'] )\n",
    "    unif_diff = np.mean(  (epr['unif']-epr['meps'])/epr['meps'] )\n",
    "    ax[1].scatter(k,ness_diff, c='tab:orange')\n",
    "    ax[1].scatter(k,unif_diff, c='tab:blue')\n",
    "    \n",
    "    ness_diff = np.mean(   (epr['ness']-epr['meps']) )\n",
    "    unif_diff = np.mean(  (epr['unif']-epr['meps']) )\n",
    "    ax[0].scatter(k,ness_diff, c='tab:orange')\n",
    "    ax[0].scatter(k,unif_diff, c='tab:blue')\n",
    "\n",
    "\n",
    "    \n",
    "ax[0].set_ylabel('$\\\\langle \\\\Sigma_R - \\\\Sigma_R(MEPS) \\\\rangle$')\n",
    "\n",
    "ax[1].set_ylabel('$\\\\langle \\\\left(\\\\Sigma_R - \\\\Sigma_R(MEPS)\\\\right)/(\\\\Sigma_R(MEPS)) \\\\rangle$')\n",
    "\n",
    "ax[0].set_xlabel('$|S|$')\n",
    "ax[1].set_xlabel('$|S|$')\n",
    "\n",
    "ax[1].set_yscale('log')"
   ]
  },
  {
   "cell_type": "code",
   "execution_count": null,
   "id": "b007e81d-f264-4d34-8bd7-e17af03fa0eb",
   "metadata": {},
   "outputs": [],
   "source": [
    "dbfig, ax = plt.subplots(3, figsize=(8,8), sharey=True, sharex=True )\n",
    "names = ['random state', 'local state', 'min ent state']\n",
    "\n",
    "sizes = [5,20,100, 250]\n",
    "N=500\n",
    "\n",
    "for i,size in enumerate(sizes):\n",
    "    pr = MC(S=size, N=N, generator=detailed_balance_generator)\n",
    "    for k, get_state in enumerate([pr.get_random_state, pr.get_local_state, pr.get_meps]):\n",
    "        s = get_state()\n",
    "        j = pr.get_prob_current(s)\n",
    "        ax[k].scatter(size*np.ones(N), -j**2*pr.get_activity(s)+pr.get_epr(s), alpha=.2)\n",
    "\n",
    "for a,n in zip(ax,names):\n",
    "    a.set_title(n)\n",
    "ax[0].set_yscale('log')  \n",
    "ax[0].set_xscale('log') \n",
    "\n",
    "ax[-1].set_xlabel('|S|')\n",
    "ax[1].set_ylabel('short time speed limit delta')"
   ]
  },
  {
   "cell_type": "code",
   "execution_count": null,
   "id": "434a517a-5cbb-46a9-8451-6f74e0e3f7ac",
   "metadata": {},
   "outputs": [],
   "source": [
    "cfig, ax = plt.subplots(3, figsize=(8,8), sharey=True, sharex=True )\n",
    "names = ['random state', 'local state', 'min ent state']\n",
    "\n",
    "sizes = [5,20,100, 250]\n",
    "N=500\n",
    "\n",
    "for i,size in enumerate(sizes):\n",
    "    pr = MC(S=size, N=N, generator=cyclic_generator)\n",
    "    for k, get_state in enumerate([pr.get_random_state, pr.get_local_state, pr.get_meps]):\n",
    "        s = get_state()\n",
    "        j = pr.get_prob_current(s)\n",
    "        ax[k].scatter(size*np.ones(N), -j**2*pr.get_activity(s)+pr.get_epr(s), alpha=.2)\n",
    "\n",
    "for a,n in zip(ax,names):\n",
    "    a.set_title(n)\n",
    "ax[0].set_yscale('log')  \n",
    "ax[0].set_xscale('log') \n",
    "\n",
    "ax[-1].set_xlabel('|S|')\n",
    "ax[1].set_ylabel('short time speed limit delta')\n"
   ]
  },
  {
   "cell_type": "code",
   "execution_count": null,
   "id": "aa622f97-3f7e-4052-bff1-30ba3d4c47bd",
   "metadata": {},
   "outputs": [],
   "source": [
    "pr = MC(N=1, S=7, generator=cyclic_generator)\n",
    "s = pr.get_local_state(sigma=np.array([1]))"
   ]
  },
  {
   "cell_type": "code",
   "execution_count": null,
   "id": "f8fccb4e-5107-442e-a68a-8b40543733e5",
   "metadata": {},
   "outputs": [],
   "source": [
    "L=100\n",
    "st = np.empty(shape=(L,pr.S))\n",
    "\n",
    "i=0\n",
    "dt=.1\n",
    "while i<L:\n",
    "    s += dt*np.squeeze((pr.get_time_deriv(s)))\n",
    "    st[i] = s\n",
    "    i += 1"
   ]
  },
  {
   "cell_type": "code",
   "execution_count": null,
   "id": "f4787a1b-6f40-44f1-92b8-82e658adcbf7",
   "metadata": {},
   "outputs": [],
   "source": [
    "fig, ax = plt.subplots(1,2,figsize=(10,8), sharex=True)\n",
    "st = np.array(st)[:50]\n",
    "ax[0].plot(st);\n",
    "ax[1].plot(pr.get_activity(st),'b', label='activity')\n",
    "\n",
    "j = pr.get_prob_current(s)\n",
    "\n",
    "ax[1].plot(j**2 * pr.get_activity(st), label='bound')\n",
    "eprs = []\n",
    "for item  in st:\n",
    "    eprs.append(pr.get_epr(item))\n",
    "eprs = np.array(eprs)\n",
    "\n",
    "ax[1].plot(eprs,'k', label='epr')\n",
    "fig.legend()\n",
    "\n",
    "#ax[1].set_yscale('log')\n",
    "ax[0].set_title('state dynamics')\n",
    "ax[1].set_title('epr metrics')\n",
    "\n",
    "ax[0].set_xlabel('t')\n"
   ]
  },
  {
   "cell_type": "code",
   "execution_count": null,
   "id": "87c76355-6ec6-44d9-99e1-b18b58ca11aa",
   "metadata": {},
   "outputs": [],
   "source": []
  },
  {
   "cell_type": "code",
   "execution_count": null,
   "id": "27cceaf2",
   "metadata": {},
   "outputs": [],
   "source": []
  }
 ],
 "metadata": {
  "kernelspec": {
   "display_name": "general",
   "language": "python",
   "name": "python3"
  },
  "language_info": {
   "codemirror_mode": {
    "name": "ipython",
    "version": 3
   },
   "file_extension": ".py",
   "mimetype": "text/x-python",
   "name": "python",
   "nbconvert_exporter": "python",
   "pygments_lexer": "ipython3",
   "version": "3.12.2"
  }
 },
 "nbformat": 4,
 "nbformat_minor": 5
}
