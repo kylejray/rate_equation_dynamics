{
 "cells": [
  {
   "cell_type": "markdown",
   "id": "a76edb5e",
   "metadata": {},
   "source": [
    "\n",
    "# Make sure to edit the first cell with the appropriate path"
   ]
  },
  {
   "cell_type": "code",
   "execution_count": null,
   "id": "f67928d3-b3e6-4177-8c28-d63cc3c395e5",
   "metadata": {},
   "outputs": [],
   "source": [
    "import sys, os\n",
    "\n",
    "#change the path to the directory that ctmc.py is located in on your system\n",
    "sys.path.append(os.path.expanduser('~/source/discrete_states/'))"
   ]
  },
  {
   "cell_type": "code",
   "execution_count": null,
   "id": "3085587d-41e7-4831-89a9-0ba4438fafda",
   "metadata": {},
   "outputs": [],
   "source": [
    "from ctmc import ContinuousTimeMarkovChain as MC\n",
    "from ctmc import normal_generator, gamma_generator, uniform_generator, cyclic_generator, detailed_balance_generator, arrhenius_pump_generator\n",
    "\n",
    "import numpy as np\n",
    "import matplotlib.pyplot as plt "
   ]
  },
  {
   "cell_type": "code",
   "execution_count": null,
   "id": "e5e1a755-6b5c-41c7-a146-3cd7eb3b6d28",
   "metadata": {},
   "outputs": [],
   "source": [
    "#make 1 machines with 5 states, generated using the \"cyclic\" generator fo transition rates\n",
    "#machine = MC(generator=cyclic_generator, S=5, N=1, max_jump=2)\n",
    "\n",
    "#make 1 machines with 5 states, generated using the arrhenious pump generator. Here, we select 3 transitions to be artifically pumped \n",
    "# beyond the normal DB transitions the arrheniosu equation gives. The pump strength is negative to be in the regime where NESS and MEPS can be different \n",
    "machine = MC(generator=arrhenius_pump_generator, S=5, N=1, n_pumps=3, pump_strength=-10)\n"
   ]
  },
  {
   "cell_type": "code",
   "execution_count": null,
   "id": "b79ab65a-2664-4533-9d52-1ae3674ccf20",
   "metadata": {},
   "outputs": [],
   "source": [
    "# the cornerstone is the rate matrix, note it is scaled so the fastest rate value will be -1 always, this scaling can be set with machine.timescale \n",
    "# this basically sets a uniform timescale for different models based on the state with the most outgoing activity\n",
    "print(machine.R)\n",
    "#print(machine.rev_R)\n",
    "# this scaling is kept track of with the machine.scale attribute\n",
    "machine.scale"
   ]
  },
  {
   "cell_type": "code",
   "execution_count": null,
   "id": "389f3bf9-389a-48de-94ee-57d460020ccc",
   "metadata": {},
   "outputs": [],
   "source": [
    "# find and the NESS state\n",
    "ness = machine.get_ness()\n",
    "# finds and the minimum entropy producing state\n",
    "meps = machine.get_meps()\n",
    "# returns a uniform state\n",
    "unif = machine.get_uniform()\n"
   ]
  },
  {
   "cell_type": "code",
   "execution_count": null,
   "id": "f16291a5-c11e-4467-84aa-7cc9f6a23567",
   "metadata": {},
   "outputs": [],
   "source": [
    "# for states, we can grab a variety of values, like the entropy produciton rate\n",
    "print('epr:')\n",
    "print(machine.get_epr(ness), machine.get_epr(meps), machine.get_epr(unif))\n",
    "#activity (which is the sum of all (positive) transition rates)\n",
    "print('activity:')\n",
    "print(machine.get_activity(ness), machine.get_activity(meps), machine.get_activity(unif))\n",
    "# or probability current (which is the total amount of probability flowing between states, note it is zero for the NESS state)\n",
    "print('current:')\n",
    "print(machine.get_prob_current(ness), machine.get_prob_current(meps), machine.get_prob_current(unif))"
   ]
  },
  {
   "cell_type": "code",
   "execution_count": null,
   "id": "69022790-5a4a-49c3-bc9a-44e73f3ac564",
   "metadata": {},
   "outputs": [],
   "source": [
    "print(machine.get_prob_current(ness), machine.get_prob_current(meps), machine.get_prob_current(unif))"
   ]
  },
  {
   "cell_type": "code",
   "execution_count": null,
   "id": "bbd75b29-167a-47c9-803e-44c6718f253a",
   "metadata": {},
   "outputs": [],
   "source": [
    "# returns a random state drawn from a uniform distrbution over all states\n",
    "random = machine.get_random_state()\n",
    "\n",
    "# returns a \"localized\" state which is basically a guassian centered on a particular state, putting the states on a ring, default is random peak and variance\n",
    "random_local = machine.get_local_state()\n",
    "# you can put in manual arguments too, though theres an annoying input issue with variances for now, requiring the array of a list input\n",
    "hardcoded_local_1 = machine.get_local_state(mu=2.6, sigma= np.array([.75]))\n",
    "hardcoded_local_2 = machine.get_local_state(mu=2.6, sigma= np.array([1.5]))\n",
    "\n",
    "\n",
    "fig, ax = plt.subplots(figsize=(10,6))\n",
    "states = [random, random_local, hardcoded_local_1, hardcoded_local_2]\n",
    "labels = ['rand','rand_loc', 'local_1', 'local_2']\n",
    "for s,l in zip(states, labels):\n",
    "    ax.plot(range(machine.S), s.T, label=l, marker='o')\n",
    "ax.set_xlabel('state #');\n",
    "ax.set_ylabel('p(state #)');\n",
    "fig.legend()\n"
   ]
  },
  {
   "cell_type": "code",
   "execution_count": null,
   "id": "67e52c31-827e-4bc3-a488-94c5f467afe8",
   "metadata": {},
   "outputs": [],
   "source": [
    "# and, we can evolve these states according to the rate matrix:\n",
    "test_state = machine.get_uniform()\n",
    "meps_state = meps\n",
    "\n",
    "T = 25\n",
    "dt = .2\n",
    "\n",
    "states = [test_state]\n",
    "meps_states = [meps_state]\n",
    "\n",
    "for i in range(T):\n",
    "    test_state = machine.evolve_state(test_state, dt=dt)\n",
    "    meps_state = machine.evolve_state(meps_state, dt=dt)\n",
    "    states.append(test_state)\n",
    "    meps_states.append(meps_state)\n",
    "    \n",
    "\n",
    "fig, ax = plt.subplots(1,2, figsize=(10,5))\n",
    "\n",
    "ax[0].hlines(ness, xmin=0, xmax=T, colors='k', linestyle='--', label='ness')\n",
    "ax[1].hlines(ness, xmin=0, xmax=T, colors='k', linestyle='--')\n",
    "\n",
    "ax[0].plot(np.squeeze(states))\n",
    "ax[1].plot(np.squeeze(meps_states),label=[f'$s_{i}$' for i in range(test_state.size)])\n",
    "ax[0].set_xlabel('$t$')\n",
    "ax[0].set_ylabel('$p_(s_i(t))$')\n",
    "\n",
    "ax[0].set_title('test_state_dynamics');\n",
    "ax[1].set_title('meps_state_dynamics');\n",
    "fig.legend();"
   ]
  },
  {
   "cell_type": "code",
   "execution_count": null,
   "id": "e8a18431-584d-4b9d-a23e-593b2afa9774",
   "metadata": {},
   "outputs": [],
   "source": [
    "# all of these things also work with ensembles of machines, for example...\n",
    "\n",
    "# make an ensemble of 100 machines with 50 states each, generated using the default uniform generator for transition rates\n",
    "#machines = MC(S=50, N=100)\n",
    "\n",
    "# or whatever generator we want, here is an example of the arrhenious pump\n",
    "machines = MC(generator=arrhenius_pump_generator, S=20, N=100, n_pumps=50, pump_strength=-12)\n",
    "\n"
   ]
  },
  {
   "cell_type": "code",
   "execution_count": null,
   "id": "9a951fc6-3034-4613-a5d7-5633e71c7589",
   "metadata": {},
   "outputs": [],
   "source": [
    "%%time\n",
    "\n",
    "ness_100 = machines.get_ness()\n",
    "meps_100 = machines.get_meps()\n",
    "unif_100 = machines.get_uniform()\n",
    "\n",
    "ness_epr = machines.get_epr(ness_100)\n",
    "meps_epr = machines.get_epr(meps_100)\n",
    "unif_epr = machines.get_epr(unif_100)\n",
    "\n",
    "\n",
    "ness_activity = machines.get_activity(ness_100)\n",
    "meps_activity = machines.get_activity(meps_100)\n",
    "unif_activity = machines.get_activity(unif_100)"
   ]
  },
  {
   "cell_type": "code",
   "execution_count": null,
   "id": "f2bef0a3-8b73-4ef1-a08c-114b3ee6b352",
   "metadata": {},
   "outputs": [],
   "source": [
    "fig, ax = plt.subplots(1,2, figsize=(14,7))\n",
    "ax[0].scatter(range(100), unif_epr-meps_epr, label='unif', alpha=.8)\n",
    "ax[0].scatter(range(100), ness_epr-meps_epr, label='ness', alpha=.8)\n",
    "\n",
    "ax[1].scatter(range(100), unif_activity)\n",
    "ax[1].scatter(range(100), ness_activity)\n",
    "ax[1].scatter(range(100), meps_activity, label='meps')\n",
    "\n",
    "ax[0].set_title('EPR- MEPR')\n",
    "ax[1].set_title('activity')\n",
    "\n",
    "fig.legend()"
   ]
  },
  {
   "cell_type": "code",
   "execution_count": null,
   "id": "1d65320f-ba23-4a5e-a226-5cafc6b32611",
   "metadata": {},
   "outputs": [
    {
     "name": "stdout",
     "output_type": "stream",
     "text": [
      "defaulting to numeric solution\n",
      "2\n"
     ]
    }
   ],
   "source": [
    "%%time\n",
    "# example of doing a sweep over many different kind of generators with different S and N, and saving some of the data. The NESS calculating will become numeric if the matrices get\n",
    "# too large to invert exactly\n",
    "SS = [3, 6, 20, 100, 250]\n",
    "trials = [300, 300, 300, 300, 300]\n",
    "\n",
    "normal_output, uniform_output, gamma_output, cyclic_output, balanced_output = {}, {}, {}, {}, {}\n",
    "\n",
    "for a in range(5):\n",
    "    print(a)\n",
    "    output = [normal_output, uniform_output, gamma_output, cyclic_output, balanced_output ][a]\n",
    "    gen = [normal_generator, uniform_generator, gamma_generator, cyclic_generator, detailed_balance_generator][a]\n",
    "    \n",
    "    \n",
    "    for s,trial in zip(SS,trials):\n",
    "        p = MC(S=s, N=trial, generator=gen)\n",
    "        #R = [ np.random.uniform(0,1,(S,S)) for i in range(trials)]\n",
    "        #for p,r in zip(procs,R):\n",
    "        #    p.set_rate_matrix(r, max_rate=1)   \n",
    "        dct = {'ness':p.get_epr(p.get_ness()), \n",
    "               'meps':p.get_epr(p.get_meps()), \n",
    "               'unif':p.get_epr(p.get_uniform()),\n",
    "               'rand':p.get_epr(p.get_random_state()),\n",
    "               'local':p.get_epr(p.get_local_state()),\n",
    "               'N':trial, 'scale':p.scale, \n",
    "               'nm_dkl':p.dkl(p.ness,p.meps),'mn_dkl':p.dkl(p.meps,p.ness)}\n",
    "        \n",
    "        output[f'{p.S}'] = dct\n"
   ]
  },
  {
   "cell_type": "code",
   "execution_count": null,
   "id": "6691720d-d007-4fee-85b5-c109a86a8c63",
   "metadata": {},
   "outputs": [],
   "source": [
    "# some example data calls\n",
    "\n",
    "\n",
    "nstates=['3','6', '100']\n",
    "\n",
    "plot_generator = normal_output\n",
    "\n",
    "fig,axs = plt.subplots(1,len(nstates), sharey=True, sharex=True)\n",
    "\n",
    "\n",
    "state_types = ['local','ness','rand']\n",
    "\n",
    "for ax, n in zip(axs, nstates):\n",
    "\n",
    "    for state_type in state_types:\n",
    "        meps_epr = plot_generator[n]['meps']\n",
    "        ax.scatter(meps_epr, plot_generator[n][state_type]-meps_epr, label=state_type)\n",
    "\n",
    "    ax.set_title(f'N={n}')\n",
    "    ax.legend()\n",
    "    ax.set_xlabel('MEPS EPR')\n",
    "    ax.set_ylabel('EPR-MEPS_EPR')\n",
    "\n",
    "    ax.set_yscale('log')\n",
    "\n",
    "\n"
   ]
  },
  {
   "cell_type": "code",
   "execution_count": null,
   "id": "403e12a7",
   "metadata": {},
   "outputs": [],
   "source": []
  }
 ],
 "metadata": {
  "kernelspec": {
   "display_name": "general",
   "language": "python",
   "name": "python3"
  },
  "language_info": {
   "codemirror_mode": {
    "name": "ipython",
    "version": 3
   },
   "file_extension": ".py",
   "mimetype": "text/x-python",
   "name": "python",
   "nbconvert_exporter": "python",
   "pygments_lexer": "ipython3",
   "version": "3.12.2"
  }
 },
 "nbformat": 4,
 "nbformat_minor": 5
}
